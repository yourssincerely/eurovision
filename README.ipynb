{
 "cells": [
  {
   "attachments": {},
   "cell_type": "markdown",
   "id": "fb4473fa",
   "metadata": {},
   "source": [
    "<img src=\"images/portadareadme.png\">\n",
    "\n",
    "<ul>\n",
    "    <li><img src=\"images/githublogo.png\" width=\"16\" height=\"16\" style=\"float:left;margin-right:10px;\"> <a href=\"https://github.com/jeslopcas\">Jessica López</a></li>\n",
    "    <li><img src=\"images/githublogo.png\" width=\"16\" height=\"16\" style=\"float:left;margin-right:10px;\"> <a href=\"https://github.com/yourssincerely\">Ruben Tenreiro</a></li>\n",
    "    <li><img src=\"images/githublogo.png\" width=\"16\" height=\"16\" style=\"float:left;margin-right:10px;\"> <a href=\"https://github.com/FranAvilaGalvan\">Fran Ávila</a></li>\n",
    "</ul>\n",
    "\n",
    "<p style=\"text-align: justify;\">\n",
    "This project analyzes the songs that have participated in the Eurovision Song Contest from 1957 to 2022. \n",
    "</p>\n",
    "<p style=\"text-align: justify;\">\n",
    "The goal of this thesis is to gain insights into the patterns and trends of the contest over the years. The data has been extracted from different sources, such as Wikipedia and Kaggle. The data has been organized and stored in a SQL database, which provides an efficient way of managing large datasets.    \n",
    "</p>\n",
    "<p style=\"text-align: justify;\">\n",
    "To help visualize the data, we have created a dashboard in PowerBI that displays various metrics related to the contest. This dashboard allows users to interact with the data and gain a better understanding of the trends and patterns that emerge from the data.\n",
    "</p>\n",
    "<p style=\"text-align: justify;\">\n",
    "In addition, we have developed machine learning models using logistic regression, random forest, and neural network algorithms. These models aim to predict the top 5 performers in the current year's Eurovision Song Contest. By comparing the results of the models, we hope to identify which algorithm performs the best in this particular task.\n",
    "</p>\n",
    "<p style=\"text-align: justify;\">\n",
    "Overall, this project provides a comprehensive analysis of the Eurovision Song Contest, with insights derived from both traditional statistical methods and machine learning techniques. We hope that this work will be useful for researchers and Eurovision enthusiasts alike, and that it can serve as a basis for future studies on this topic.\n",
    "</p>"
   ]
  }
 ],
 "metadata": {
  "kernelspec": {
   "display_name": "Python 3 (ipykernel)",
   "language": "python",
   "name": "python3"
  },
  "language_info": {
   "codemirror_mode": {
    "name": "ipython",
    "version": 3
   },
   "file_extension": ".py",
   "mimetype": "text/x-python",
   "name": "python",
   "nbconvert_exporter": "python",
   "pygments_lexer": "ipython3",
   "version": "3.11.2"
  },
  "toc": {
   "base_numbering": 1,
   "nav_menu": {},
   "number_sections": true,
   "sideBar": true,
   "skip_h1_title": false,
   "title_cell": "Table of Contents",
   "title_sidebar": "Contents",
   "toc_cell": false,
   "toc_position": {},
   "toc_section_display": true,
   "toc_window_display": false
  },
  "varInspector": {
   "cols": {
    "lenName": 16,
    "lenType": 16,
    "lenVar": 40
   },
   "kernels_config": {
    "python": {
     "delete_cmd_postfix": "",
     "delete_cmd_prefix": "del ",
     "library": "var_list.py",
     "varRefreshCmd": "print(var_dic_list())"
    },
    "r": {
     "delete_cmd_postfix": ") ",
     "delete_cmd_prefix": "rm(",
     "library": "var_list.r",
     "varRefreshCmd": "cat(var_dic_list()) "
    }
   },
   "types_to_exclude": [
    "module",
    "function",
    "builtin_function_or_method",
    "instance",
    "_Feature"
   ],
   "window_display": false
  }
 },
 "nbformat": 4,
 "nbformat_minor": 5
}
